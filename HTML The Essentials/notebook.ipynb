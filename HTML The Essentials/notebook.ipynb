{
 "cells": [
  {
   "attachments": {},
   "cell_type": "markdown",
   "metadata": {},
   "source": [
    "## What matters in this section?\n",
    "\n",
    "- Pragraph Elements CRUCIAL!\n",
    "- HTML Headings CRUCIAL!\n",
    "- HTML Lists CRUCIAL!\n",
    "- HTML Anchor Tags CRUCIAL!\n",
    "- HTML Images CRUCIAL!\n",
    "- Using MDN as a Resource IMPORTANT\n",
    "- HTML Boilerplate CRUCIAL!\n",
    "- The Chrome Inspector IMPORTANT\n",
    "- VsCode Formatting On Save NICE TO HAVE"
   ]
  },
  {
   "attachments": {},
   "cell_type": "markdown",
   "metadata": {},
   "source": [
    "## Introduction to HTML\n",
    "\n",
    "HTML is a markup language. It is not a full programming language.\n",
    "\n",
    "Lenguage to mark up documents, in this case, webpages.\n",
    "\n",
    "It was created to hel describe the structure of academic research papers and share them across the internet.\n",
    "\n",
    "Its goal is to take text context and mark it up in some structured way.\n",
    "\n",
    "Elements in HTML are represented by tags. Tags are written in angle brackets.\n",
    "\n",
    "```html\n",
    "<p> This is a paragraph </p>\n",
    "```\n",
    "\n",
    "The first tag is the opening tag, the second tag is the closing tag."
   ]
  },
  {
   "attachments": {},
   "cell_type": "markdown",
   "metadata": {},
   "source": [
    "## HTML Paragraphs\n",
    "\n",
    "In HTML, a paragraph is defined by the `<p>` tag.\n",
    "\n",
    "```html\n",
    "<p> This is a paragraph </p>\n",
    "```\n",
    "\n",
    "This can represent a paragraph, a sentence, a line, or any other portion of text. It is a block level element. "
   ]
  },
  {
   "attachments": {},
   "cell_type": "markdown",
   "metadata": {},
   "source": [
    "## HTML Headings\n",
    "\n",
    "In HTML, there are 6 levels of headings. They are defined by the `<h1>` through `<h6>` tags.\n",
    "\n",
    "```html\n",
    "<h1> This is a heading </h1>\n",
    "```\n",
    "\n",
    "The `<h1>` tag is the largest heading, and the `<h6>` tag is the smallest heading.\n",
    "\n",
    "A single page shouldn't have more than one `<h1>` tag. It is used to represent the main heading of the page.\n",
    "\n",
    "Smaller headings are used to represent subheadings and should be used in order."
   ]
  }
 ],
 "metadata": {
  "kernelspec": {
   "display_name": "Python 3",
   "language": "python",
   "name": "python3"
  },
  "language_info": {
   "name": "python",
   "version": "3.9.1"
  },
  "orig_nbformat": 4,
  "vscode": {
   "interpreter": {
    "hash": "11938c6bc6919ae2720b4d5011047913343b08a43b18698fd82dedb0d4417594"
   }
  }
 },
 "nbformat": 4,
 "nbformat_minor": 2
}
