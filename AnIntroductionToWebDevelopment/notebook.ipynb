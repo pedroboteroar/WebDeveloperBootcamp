{
 "cells": [
  {
   "attachments": {},
   "cell_type": "markdown",
   "metadata": {},
   "source": [
    "# What matters in this section?"
   ]
  },
  {
   "attachments": {},
   "cell_type": "markdown",
   "metadata": {},
   "source": [
    "- VsCode Theme NICE TO HAVE\n",
    "- How the Internet Works IMPORTANT\n",
    "- Intro to the Web IMPORTANT\n",
    "- Installation of VsCode and Chrome CRUCIAL!\n",
    "- Understanding the roles of HTML, CSS and JS CRUCIAL!\n",
    "- HTTP Request / Response Cycle IMPORTANT"
   ]
  },
  {
   "attachments": {},
   "cell_type": "markdown",
   "metadata": {},
   "source": [
    "## The Internet in 5 minutes\n",
    "\n",
    "The internet is basically a network of networks (A bunch of connected computers).\n",
    "\n",
    "Routers are machines that connect data in one machine to another machine. A particular machine daoesn't need to know anything about another computer to connect with it.\n",
    "\n",
    "This connection of many computers is what we call a network.\n",
    "\n",
    "Data at some point makes its way over cables which connect globally.\n",
    "\n",
    "The internet is the infrastructure that carries things like email, the web, file sharing, online gaming, straming services, etc."
   ]
  },
  {
   "attachments": {},
   "cell_type": "markdown",
   "metadata": {},
   "source": [
    "## Intro to the Web\n",
    "\n",
    "The World Wide Web is an information system where documents and other resources are available over the Internet.\n",
    "\n",
    "Documents are transferred and identified via HTTP or URLs.\n",
    "\n",
    "HTTP means Hyper Text Transfer Protocol. It is a protocal which serves as the foundation of communication on the World Wide Web.\n",
    "\n",
    "When I do anything on the internet such as refreshing a page, it is creating a request. The browser's job takes that request and shows it to the user.\n",
    "\n",
    "Web Servers are a computer that can satisfy requests on the Web. There are many other kind of servers or meanings.\n",
    "\n",
    "Clients are the computers that are requesting something from a server."
   ]
  },
  {
   "attachments": {},
   "cell_type": "markdown",
   "metadata": {},
   "source": [
    "## Request / Response Cycle\n",
    "\n",
    "Once we send a request, the servers respond with instruction on code that the browser can understand and render for the user.\n",
    "\n",
    "Example:\n",
    "When you go to IKEA, you buy a sofa and you get the instructions and the pieces on how to build it.\n",
    "\n",
    "If we right click on a page and click on View Page Source, we can see the response in code form."
   ]
  },
  {
   "attachments": {},
   "cell_type": "markdown",
   "metadata": {},
   "source": [
    "## Front End vs Back End\n",
    "\n",
    "Front end is the layer above the back end, it includes all software or hardware that is part of user interface.\n",
    "\n",
    "Back end are the parts of a program or appplication's code that allow it to operate and that cannot be accessed by the user."
   ]
  },
  {
   "attachments": {},
   "cell_type": "markdown",
   "metadata": {},
   "source": [
    "## What do HTML / CSS / JS do?\n",
    "\n",
    "They are responsible for making webpages. \n",
    "\n",
    "HTML on a webpage describes the things in the page. CSS helps us describe how things looks. JS helps us describe how things behaves.\n",
    "\n",
    "Any time you have a live notification, auto-complete, etc. it is because of Javascript."
   ]
  }
 ],
 "metadata": {
  "kernelspec": {
   "display_name": "Python 3",
   "language": "python",
   "name": "python3"
  },
  "language_info": {
   "name": "python",
   "version": "3.9.1"
  },
  "orig_nbformat": 4,
  "vscode": {
   "interpreter": {
    "hash": "11938c6bc6919ae2720b4d5011047913343b08a43b18698fd82dedb0d4417594"
   }
  }
 },
 "nbformat": 4,
 "nbformat_minor": 2
}
